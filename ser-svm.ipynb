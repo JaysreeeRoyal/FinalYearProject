{
 "cells": [
  {
   "cell_type": "markdown",
   "id": "5e0908be",
   "metadata": {
    "papermill": {
     "duration": 0.047906,
     "end_time": "2022-05-04T04:01:10.473695",
     "exception": false,
     "start_time": "2022-05-04T04:01:10.425789",
     "status": "completed"
    },
    "tags": []
   },
   "source": [
    "# Speech Emotion Recognition - Feature Extraction\n",
    "\n",
    "Databases used\n",
    "\n",
    "* The Ryerson Audio-Visual Database of Emotional Speech and Song (RAVDESS)\n",
    "* Toronto emotional speech set (TESS)"
   ]
  },
  {
   "cell_type": "markdown",
   "id": "53e30bcf",
   "metadata": {
    "papermill": {
     "duration": 0.047114,
     "end_time": "2022-05-04T04:01:10.567971",
     "exception": false,
     "start_time": "2022-05-04T04:01:10.520857",
     "status": "completed"
    },
    "tags": []
   },
   "source": [
    "### Import Libraries\n",
    "\n",
    "Import necessary libraries"
   ]
  },
  {
   "cell_type": "code",
   "execution_count": 1,
   "id": "af73c3df",
   "metadata": {
    "execution": {
     "iopub.execute_input": "2022-05-04T04:01:10.669509Z",
     "iopub.status.busy": "2022-05-04T04:01:10.668980Z",
     "iopub.status.idle": "2022-05-04T04:01:13.483682Z",
     "shell.execute_reply": "2022-05-04T04:01:13.482792Z"
    },
    "papermill": {
     "duration": 2.869184,
     "end_time": "2022-05-04T04:01:13.486107",
     "exception": false,
     "start_time": "2022-05-04T04:01:10.616923",
     "status": "completed"
    },
    "tags": []
   },
   "outputs": [],
   "source": [
    "import glob\n",
    "import os\n",
    "import librosa\n",
    "import time\n",
    "import numpy as np\n",
    "import pandas as pd"
   ]
  },
  {
   "cell_type": "markdown",
   "id": "a0f2d86e",
   "metadata": {
    "papermill": {
     "duration": 0.048889,
     "end_time": "2022-05-04T04:01:13.584230",
     "exception": false,
     "start_time": "2022-05-04T04:01:13.535341",
     "status": "completed"
    },
    "tags": []
   },
   "source": [
    "### Load all files\n",
    "\n",
    "We will create our numpy array extracting Mel-frequency cepstral coefficients (MFCCs) while the classes to predict will be extracted from the name of the file."
   ]
  },
  {
   "cell_type": "markdown",
   "id": "8e5ba97c",
   "metadata": {
    "papermill": {
     "duration": 0.048734,
     "end_time": "2022-05-04T04:01:13.684219",
     "exception": false,
     "start_time": "2022-05-04T04:01:13.635485",
     "status": "completed"
    },
    "tags": []
   },
   "source": [
    "#### Defining emotions to classify \n",
    "\n",
    "Selecting the emotions to be classified. Note that the emotions 'neutral', 'calm' and 'surprised' are only found in RAVDESS dataset and 'pleasantly surprised' or 'ps' is only available in TESS dataset. To combine all the emotions from both datasets into 8 emotion classes, we have changed 'pleasantly surprised' to 'surprised' and 'fearful' to 'fear'"
   ]
  },
  {
   "cell_type": "code",
   "execution_count": 2,
   "id": "86cbace5",
   "metadata": {
    "execution": {
     "iopub.execute_input": "2022-05-04T04:01:13.780895Z",
     "iopub.status.busy": "2022-05-04T04:01:13.780328Z",
     "iopub.status.idle": "2022-05-04T04:01:13.786599Z",
     "shell.execute_reply": "2022-05-04T04:01:13.785717Z"
    },
    "papermill": {
     "duration": 0.056636,
     "end_time": "2022-05-04T04:01:13.788746",
     "exception": false,
     "start_time": "2022-05-04T04:01:13.732110",
     "status": "completed"
    },
    "tags": []
   },
   "outputs": [],
   "source": [
    "emotions={\n",
    "  '01':'neutral',\n",
    "  '02':'calm',\n",
    "  '03':'happy',\n",
    "  '04':'sad',\n",
    "  '05':'angry',\n",
    "  '06':'fear',\n",
    "  '07':'disgust',\n",
    "  '08':'surprised'\n",
    "}\n",
    "\n",
    "#defined tess emotions to test on TESS dataset only\n",
    "tess_emotions=['angry','disgust','fear','ps','happy','sad']\n",
    "\n",
    "##defined RAVDESS emotions to test on RAVDESS dataset only\n",
    "ravdess_emotions=['neutral','calm','angry', 'happy','disgust','sad','fear','surprised']\n",
    "\n",
    "observed_emotions = ['sad','angry','happy','disgust','surprised','neutral','calm','fear']"
   ]
  },
  {
   "cell_type": "markdown",
   "id": "bccfa18c",
   "metadata": {
    "papermill": {
     "duration": 0.04847,
     "end_time": "2022-05-04T04:01:13.885940",
     "exception": false,
     "start_time": "2022-05-04T04:01:13.837470",
     "status": "completed"
    },
    "tags": []
   },
   "source": [
    "#### Feature extraction\n",
    "\n",
    "Using librosa package we can extract the MFCC features. This function loads the file give the file path and after resampling and computing MFCC features, returns the features. We have selected the no. of MFCCs as 40."
   ]
  },
  {
   "cell_type": "code",
   "execution_count": 3,
   "id": "d2021575",
   "metadata": {
    "execution": {
     "iopub.execute_input": "2022-05-04T04:01:13.983499Z",
     "iopub.status.busy": "2022-05-04T04:01:13.983048Z",
     "iopub.status.idle": "2022-05-04T04:01:13.988291Z",
     "shell.execute_reply": "2022-05-04T04:01:13.987658Z"
    },
    "papermill": {
     "duration": 0.056335,
     "end_time": "2022-05-04T04:01:13.990440",
     "exception": false,
     "start_time": "2022-05-04T04:01:13.934105",
     "status": "completed"
    },
    "tags": []
   },
   "outputs": [],
   "source": [
    "def extract_feature(file_name, mfcc):\n",
    "    X, sample_rate = librosa.load(os.path.join(file_name), res_type='kaiser_fast')\n",
    "    if mfcc:\n",
    "        mfccs=np.mean(librosa.feature.mfcc(y=X, sr=sample_rate, n_mfcc=40).T, axis=0)\n",
    "        result=np.hstack((mfccs))\n",
    "        return result\n",
    "    else:\n",
    "        return None"
   ]
  },
  {
   "cell_type": "markdown",
   "id": "eb7a92fc",
   "metadata": {
    "papermill": {
     "duration": 0.046615,
     "end_time": "2022-05-04T04:01:14.086292",
     "exception": false,
     "start_time": "2022-05-04T04:01:14.039677",
     "status": "completed"
    },
    "tags": []
   },
   "source": [
    "#### Choosing a dataset\n",
    "\n",
    "Choose the dataset(s) you want to load using the following function"
   ]
  },
  {
   "cell_type": "code",
   "execution_count": 4,
   "id": "9df19a8b",
   "metadata": {
    "execution": {
     "iopub.execute_input": "2022-05-04T04:01:14.185676Z",
     "iopub.status.busy": "2022-05-04T04:01:14.185044Z",
     "iopub.status.idle": "2022-05-04T04:01:14.190867Z",
     "shell.execute_reply": "2022-05-04T04:01:14.190206Z"
    },
    "papermill": {
     "duration": 0.059129,
     "end_time": "2022-05-04T04:01:14.193368",
     "exception": false,
     "start_time": "2022-05-04T04:01:14.134239",
     "status": "completed"
    },
    "tags": []
   },
   "outputs": [],
   "source": [
    "def dataset_options():\n",
    "    # choose datasets\n",
    "    ravdess = True\n",
    "    tess = True\n",
    "    ravdess_speech = False\n",
    "    ravdess_song = False\n",
    "    data = {'ravdess':ravdess, 'ravdess_speech':ravdess_speech, 'ravdess_song':ravdess_song, 'tess':tess}\n",
    "    print(data)\n",
    "    return data"
   ]
  },
  {
   "cell_type": "markdown",
   "id": "f9b6a32d",
   "metadata": {
    "papermill": {
     "duration": 0.045654,
     "end_time": "2022-05-04T04:01:14.285097",
     "exception": false,
     "start_time": "2022-05-04T04:01:14.239443",
     "status": "completed"
    },
    "tags": []
   },
   "source": [
    "#### Load data\n",
    "\n",
    "Load data from the datasets required which is obtained by calling the function dataset__options(). Extract features from each file with the selected emotions in chosen datasets using the extract_feature() function defined."
   ]
  },
  {
   "cell_type": "code",
   "execution_count": 5,
   "id": "ef0ee02b",
   "metadata": {
    "execution": {
     "iopub.execute_input": "2022-05-04T04:01:14.379594Z",
     "iopub.status.busy": "2022-05-04T04:01:14.378966Z",
     "iopub.status.idle": "2022-05-04T04:01:14.390551Z",
     "shell.execute_reply": "2022-05-04T04:01:14.389511Z"
    },
    "papermill": {
     "duration": 0.062142,
     "end_time": "2022-05-04T04:01:14.393205",
     "exception": false,
     "start_time": "2022-05-04T04:01:14.331063",
     "status": "completed"
    },
    "tags": []
   },
   "outputs": [],
   "source": [
    "def load_data(test_size=0.2): \n",
    "    x,y=[],[]\n",
    "    \n",
    "    # feature to extract\n",
    "    mfcc = True\n",
    "    \n",
    "    data = dataset_options()\n",
    "    paths = []\n",
    "    if data['ravdess']:\n",
    "        paths.append(\"kaggle/input/ravdess-emotional-*/audio_*_actors_01-24/*/Actor_*/*.wav\")\n",
    "    elif data['ravdess_speech']:\n",
    "        paths.append(\"kaggle/input/ravdess-emotional-speech-audio/audio_speech_actors_01-24/Actor_*/*.wav\")\n",
    "    elif data['ravdess_song']:\n",
    "        paths.append(\"kaggle/input/ravdess-emotional-song-audio/audio_song_actors_01-24/Actor_*/*.wav\")\n",
    "        \n",
    "    for path in paths:\n",
    "        for file in glob.glob(path):\n",
    "            file_name=os.path.basename(file)\n",
    "            emotion=emotions[file_name.split(\"-\")[2]] #to get emotion according to filename. dictionary emotions is defined above.\n",
    "            if emotion not in observed_emotions: #options observed_emotions - RAVDESS and TESS, ravdess_emotions for RAVDESS only\n",
    "                continue\n",
    "            feature=extract_feature(file, mfcc)\n",
    "            x.append(feature)\n",
    "            y.append(emotion)\n",
    "    if data['tess']:\n",
    "        for file in glob.glob(\"/kaggle/input/toronto-emotional-speech-set-tess/tess toronto emotional speech set data/TESS Toronto emotional speech set data/*AF_*/*.wav\"):\n",
    "            file_name=os.path.basename(file)\n",
    "            emotion=file_name.split(\"_\")[2][:-4] #split and remove .wav\n",
    "            if emotion == 'ps':\n",
    "                emotion = 'surprised'\n",
    "            if emotion not in observed_emotions: #options observed_emotions - RAVDESS and TESS, ravdess_emotions for RAVDESS only\n",
    "                continue\n",
    "            feature=extract_feature(file, mfcc)\n",
    "            x.append(feature)\n",
    "            y.append(emotion)\n",
    "    return {\"X\":x,\"y\":y}"
   ]
  },
  {
   "cell_type": "code",
   "execution_count": 6,
   "id": "0be9ade2",
   "metadata": {
    "execution": {
     "iopub.execute_input": "2022-05-04T04:01:14.491627Z",
     "iopub.status.busy": "2022-05-04T04:01:14.491044Z",
     "iopub.status.idle": "2022-05-04T04:03:55.590012Z",
     "shell.execute_reply": "2022-05-04T04:03:55.580490Z"
    },
    "papermill": {
     "duration": 161.23445,
     "end_time": "2022-05-04T04:03:55.674693",
     "exception": false,
     "start_time": "2022-05-04T04:01:14.440243",
     "status": "completed"
    },
    "tags": []
   },
   "outputs": [
    {
     "name": "stdout",
     "output_type": "stream",
     "text": [
      "{'ravdess': True, 'ravdess_speech': False, 'ravdess_song': False, 'tess': True}\n",
      "--- Data loaded. Loading time: 161.08348083496094 seconds ---\n"
     ]
    }
   ],
   "source": [
    "start_time = time.time()\n",
    "\n",
    "Trial_dict = load_data(test_size = 0.3)\n",
    "\n",
    "print(\"--- Data loaded. Loading time: %s seconds ---\" % (time.time() - start_time))"
   ]
  },
  {
   "cell_type": "code",
   "execution_count": 7,
   "id": "3fef13fc",
   "metadata": {
    "execution": {
     "iopub.execute_input": "2022-05-04T04:03:55.782972Z",
     "iopub.status.busy": "2022-05-04T04:03:55.782687Z",
     "iopub.status.idle": "2022-05-04T04:03:55.854253Z",
     "shell.execute_reply": "2022-05-04T04:03:55.853369Z"
    },
    "papermill": {
     "duration": 0.123545,
     "end_time": "2022-05-04T04:03:55.856907",
     "exception": false,
     "start_time": "2022-05-04T04:03:55.733362",
     "status": "completed"
    },
    "tags": []
   },
   "outputs": [],
   "source": [
    "X = pd.DataFrame(Trial_dict[\"X\"])\n",
    "y = pd.DataFrame(Trial_dict[\"y\"])"
   ]
  },
  {
   "cell_type": "code",
   "execution_count": 8,
   "id": "8888d427",
   "metadata": {
    "execution": {
     "iopub.execute_input": "2022-05-04T04:03:55.957824Z",
     "iopub.status.busy": "2022-05-04T04:03:55.957453Z",
     "iopub.status.idle": "2022-05-04T04:03:55.966091Z",
     "shell.execute_reply": "2022-05-04T04:03:55.965427Z"
    },
    "papermill": {
     "duration": 0.061839,
     "end_time": "2022-05-04T04:03:55.968358",
     "exception": false,
     "start_time": "2022-05-04T04:03:55.906519",
     "status": "completed"
    },
    "tags": []
   },
   "outputs": [
    {
     "data": {
      "text/plain": [
       "((2800, 40), (2800, 1))"
      ]
     },
     "execution_count": 8,
     "metadata": {},
     "output_type": "execute_result"
    }
   ],
   "source": [
    "X.shape, y.shape"
   ]
  },
  {
   "cell_type": "code",
   "execution_count": 9,
   "id": "37224cc7",
   "metadata": {
    "execution": {
     "iopub.execute_input": "2022-05-04T04:03:56.070988Z",
     "iopub.status.busy": "2022-05-04T04:03:56.070117Z",
     "iopub.status.idle": "2022-05-04T04:03:56.075834Z",
     "shell.execute_reply": "2022-05-04T04:03:56.075057Z"
    },
    "papermill": {
     "duration": 0.059207,
     "end_time": "2022-05-04T04:03:56.077820",
     "exception": false,
     "start_time": "2022-05-04T04:03:56.018613",
     "status": "completed"
    },
    "tags": []
   },
   "outputs": [],
   "source": [
    "#renaming the label column to emotion\n",
    "y=y.rename(columns= {0: 'emotion'})"
   ]
  },
  {
   "cell_type": "code",
   "execution_count": 10,
   "id": "f5d41697",
   "metadata": {
    "execution": {
     "iopub.execute_input": "2022-05-04T04:03:56.178921Z",
     "iopub.status.busy": "2022-05-04T04:03:56.178357Z",
     "iopub.status.idle": "2022-05-04T04:03:56.183376Z",
     "shell.execute_reply": "2022-05-04T04:03:56.182757Z"
    },
    "papermill": {
     "duration": 0.05876,
     "end_time": "2022-05-04T04:03:56.185234",
     "exception": false,
     "start_time": "2022-05-04T04:03:56.126474",
     "status": "completed"
    },
    "tags": []
   },
   "outputs": [],
   "source": [
    "#concatinating the attributes and label into a single dataframe\n",
    "data = pd.concat([X, y], axis =1)"
   ]
  },
  {
   "cell_type": "code",
   "execution_count": 11,
   "id": "0a1aae77",
   "metadata": {
    "execution": {
     "iopub.execute_input": "2022-05-04T04:03:56.286872Z",
     "iopub.status.busy": "2022-05-04T04:03:56.286613Z",
     "iopub.status.idle": "2022-05-04T04:03:56.321356Z",
     "shell.execute_reply": "2022-05-04T04:03:56.320625Z"
    },
    "papermill": {
     "duration": 0.086858,
     "end_time": "2022-05-04T04:03:56.323424",
     "exception": false,
     "start_time": "2022-05-04T04:03:56.236566",
     "status": "completed"
    },
    "tags": []
   },
   "outputs": [
    {
     "data": {
      "text/html": [
       "<div>\n",
       "<style scoped>\n",
       "    .dataframe tbody tr th:only-of-type {\n",
       "        vertical-align: middle;\n",
       "    }\n",
       "\n",
       "    .dataframe tbody tr th {\n",
       "        vertical-align: top;\n",
       "    }\n",
       "\n",
       "    .dataframe thead th {\n",
       "        text-align: right;\n",
       "    }\n",
       "</style>\n",
       "<table border=\"1\" class=\"dataframe\">\n",
       "  <thead>\n",
       "    <tr style=\"text-align: right;\">\n",
       "      <th></th>\n",
       "      <th>0</th>\n",
       "      <th>1</th>\n",
       "      <th>2</th>\n",
       "      <th>3</th>\n",
       "      <th>4</th>\n",
       "      <th>5</th>\n",
       "      <th>6</th>\n",
       "      <th>7</th>\n",
       "      <th>8</th>\n",
       "      <th>9</th>\n",
       "      <th>...</th>\n",
       "      <th>31</th>\n",
       "      <th>32</th>\n",
       "      <th>33</th>\n",
       "      <th>34</th>\n",
       "      <th>35</th>\n",
       "      <th>36</th>\n",
       "      <th>37</th>\n",
       "      <th>38</th>\n",
       "      <th>39</th>\n",
       "      <th>emotion</th>\n",
       "    </tr>\n",
       "  </thead>\n",
       "  <tbody>\n",
       "    <tr>\n",
       "      <th>0</th>\n",
       "      <td>-269.211700</td>\n",
       "      <td>80.701363</td>\n",
       "      <td>2.356568</td>\n",
       "      <td>30.741869</td>\n",
       "      <td>-14.053211</td>\n",
       "      <td>10.920398</td>\n",
       "      <td>1.400163</td>\n",
       "      <td>2.320490</td>\n",
       "      <td>-8.806257</td>\n",
       "      <td>9.335831</td>\n",
       "      <td>...</td>\n",
       "      <td>3.344054</td>\n",
       "      <td>-5.234730</td>\n",
       "      <td>-6.052400</td>\n",
       "      <td>-1.165393</td>\n",
       "      <td>1.364710</td>\n",
       "      <td>-0.193868</td>\n",
       "      <td>0.587787</td>\n",
       "      <td>7.060477</td>\n",
       "      <td>5.522696</td>\n",
       "      <td>fear</td>\n",
       "    </tr>\n",
       "    <tr>\n",
       "      <th>1</th>\n",
       "      <td>-344.002502</td>\n",
       "      <td>32.776810</td>\n",
       "      <td>-9.063319</td>\n",
       "      <td>25.326313</td>\n",
       "      <td>0.067531</td>\n",
       "      <td>0.801800</td>\n",
       "      <td>-11.765184</td>\n",
       "      <td>0.075920</td>\n",
       "      <td>-25.511457</td>\n",
       "      <td>4.341536</td>\n",
       "      <td>...</td>\n",
       "      <td>7.770835</td>\n",
       "      <td>2.493593</td>\n",
       "      <td>-6.546103</td>\n",
       "      <td>-7.306666</td>\n",
       "      <td>1.218036</td>\n",
       "      <td>3.636092</td>\n",
       "      <td>-0.963508</td>\n",
       "      <td>0.175110</td>\n",
       "      <td>5.246468</td>\n",
       "      <td>fear</td>\n",
       "    </tr>\n",
       "    <tr>\n",
       "      <th>2</th>\n",
       "      <td>-326.832458</td>\n",
       "      <td>43.659576</td>\n",
       "      <td>-16.795980</td>\n",
       "      <td>28.428926</td>\n",
       "      <td>-1.860853</td>\n",
       "      <td>-1.871437</td>\n",
       "      <td>-13.376614</td>\n",
       "      <td>-3.796449</td>\n",
       "      <td>-13.642759</td>\n",
       "      <td>8.230937</td>\n",
       "      <td>...</td>\n",
       "      <td>2.431565</td>\n",
       "      <td>-8.389224</td>\n",
       "      <td>-4.687716</td>\n",
       "      <td>-1.479414</td>\n",
       "      <td>2.951041</td>\n",
       "      <td>0.218573</td>\n",
       "      <td>1.449644</td>\n",
       "      <td>8.652721</td>\n",
       "      <td>7.540298</td>\n",
       "      <td>fear</td>\n",
       "    </tr>\n",
       "    <tr>\n",
       "      <th>3</th>\n",
       "      <td>-307.840698</td>\n",
       "      <td>20.404057</td>\n",
       "      <td>-8.722903</td>\n",
       "      <td>21.451805</td>\n",
       "      <td>-11.354413</td>\n",
       "      <td>12.874665</td>\n",
       "      <td>-11.798464</td>\n",
       "      <td>-2.698159</td>\n",
       "      <td>-17.916637</td>\n",
       "      <td>18.239555</td>\n",
       "      <td>...</td>\n",
       "      <td>-1.020585</td>\n",
       "      <td>-5.933275</td>\n",
       "      <td>-2.766360</td>\n",
       "      <td>0.833568</td>\n",
       "      <td>3.432120</td>\n",
       "      <td>-1.069368</td>\n",
       "      <td>2.686983</td>\n",
       "      <td>0.023159</td>\n",
       "      <td>-0.737819</td>\n",
       "      <td>fear</td>\n",
       "    </tr>\n",
       "    <tr>\n",
       "      <th>4</th>\n",
       "      <td>-331.164673</td>\n",
       "      <td>44.283852</td>\n",
       "      <td>-28.864138</td>\n",
       "      <td>30.796888</td>\n",
       "      <td>-6.072992</td>\n",
       "      <td>-1.108127</td>\n",
       "      <td>-14.380206</td>\n",
       "      <td>12.595481</td>\n",
       "      <td>-12.017055</td>\n",
       "      <td>9.139359</td>\n",
       "      <td>...</td>\n",
       "      <td>-0.427725</td>\n",
       "      <td>-2.024323</td>\n",
       "      <td>3.793104</td>\n",
       "      <td>-1.980960</td>\n",
       "      <td>0.258472</td>\n",
       "      <td>0.886236</td>\n",
       "      <td>0.616944</td>\n",
       "      <td>-0.374613</td>\n",
       "      <td>-2.800029</td>\n",
       "      <td>fear</td>\n",
       "    </tr>\n",
       "  </tbody>\n",
       "</table>\n",
       "<p>5 rows × 41 columns</p>\n",
       "</div>"
      ],
      "text/plain": [
       "            0          1          2          3          4          5  \\\n",
       "0 -269.211700  80.701363   2.356568  30.741869 -14.053211  10.920398   \n",
       "1 -344.002502  32.776810  -9.063319  25.326313   0.067531   0.801800   \n",
       "2 -326.832458  43.659576 -16.795980  28.428926  -1.860853  -1.871437   \n",
       "3 -307.840698  20.404057  -8.722903  21.451805 -11.354413  12.874665   \n",
       "4 -331.164673  44.283852 -28.864138  30.796888  -6.072992  -1.108127   \n",
       "\n",
       "           6          7          8          9  ...        31        32  \\\n",
       "0   1.400163   2.320490  -8.806257   9.335831  ...  3.344054 -5.234730   \n",
       "1 -11.765184   0.075920 -25.511457   4.341536  ...  7.770835  2.493593   \n",
       "2 -13.376614  -3.796449 -13.642759   8.230937  ...  2.431565 -8.389224   \n",
       "3 -11.798464  -2.698159 -17.916637  18.239555  ... -1.020585 -5.933275   \n",
       "4 -14.380206  12.595481 -12.017055   9.139359  ... -0.427725 -2.024323   \n",
       "\n",
       "         33        34        35        36        37        38        39  \\\n",
       "0 -6.052400 -1.165393  1.364710 -0.193868  0.587787  7.060477  5.522696   \n",
       "1 -6.546103 -7.306666  1.218036  3.636092 -0.963508  0.175110  5.246468   \n",
       "2 -4.687716 -1.479414  2.951041  0.218573  1.449644  8.652721  7.540298   \n",
       "3 -2.766360  0.833568  3.432120 -1.069368  2.686983  0.023159 -0.737819   \n",
       "4  3.793104 -1.980960  0.258472  0.886236  0.616944 -0.374613 -2.800029   \n",
       "\n",
       "   emotion  \n",
       "0     fear  \n",
       "1     fear  \n",
       "2     fear  \n",
       "3     fear  \n",
       "4     fear  \n",
       "\n",
       "[5 rows x 41 columns]"
      ]
     },
     "execution_count": 11,
     "metadata": {},
     "output_type": "execute_result"
    }
   ],
   "source": [
    "data.head()"
   ]
  },
  {
   "cell_type": "markdown",
   "id": "48f82527",
   "metadata": {
    "papermill": {
     "duration": 0.050075,
     "end_time": "2022-05-04T04:03:56.424827",
     "exception": false,
     "start_time": "2022-05-04T04:03:56.374752",
     "status": "completed"
    },
    "tags": []
   },
   "source": [
    "## Shuffling data#reindexing to shuffle the data at random\n",
    "data = data.reindex(np.random.permutation(data.index))"
   ]
  },
  {
   "cell_type": "code",
   "execution_count": 12,
   "id": "4c999c22",
   "metadata": {
    "execution": {
     "iopub.execute_input": "2022-05-04T04:03:56.526954Z",
     "iopub.status.busy": "2022-05-04T04:03:56.525979Z",
     "iopub.status.idle": "2022-05-04T04:03:56.532403Z",
     "shell.execute_reply": "2022-05-04T04:03:56.531462Z"
    },
    "papermill": {
     "duration": 0.060306,
     "end_time": "2022-05-04T04:03:56.534672",
     "exception": false,
     "start_time": "2022-05-04T04:03:56.474366",
     "status": "completed"
    },
    "tags": []
   },
   "outputs": [],
   "source": [
    "#reindexing to shuffle the data at random\n",
    "data = data.reindex(np.random.permutation(data.index))"
   ]
  },
  {
   "cell_type": "code",
   "execution_count": 13,
   "id": "13d4b307",
   "metadata": {
    "execution": {
     "iopub.execute_input": "2022-05-04T04:03:56.633822Z",
     "iopub.status.busy": "2022-05-04T04:03:56.633544Z",
     "iopub.status.idle": "2022-05-04T04:03:56.800191Z",
     "shell.execute_reply": "2022-05-04T04:03:56.799127Z"
    },
    "papermill": {
     "duration": 0.219065,
     "end_time": "2022-05-04T04:03:56.802609",
     "exception": false,
     "start_time": "2022-05-04T04:03:56.583544",
     "status": "completed"
    },
    "tags": []
   },
   "outputs": [],
   "source": [
    "# Storing shuffled ravdess and tess data to avoid loading again\n",
    "data.to_csv(\"RAVTESS_MFCC_Observed.csv\")"
   ]
  },
  {
   "cell_type": "markdown",
   "id": "dc1a08ae",
   "metadata": {
    "papermill": {
     "duration": 0.049662,
     "end_time": "2022-05-04T04:03:56.900967",
     "exception": false,
     "start_time": "2022-05-04T04:03:56.851305",
     "status": "completed"
    },
    "tags": []
   },
   "source": [
    "# Speech Emotion Recognition"
   ]
  },
  {
   "cell_type": "code",
   "execution_count": 14,
   "id": "ed2e2e4d",
   "metadata": {
    "execution": {
     "iopub.execute_input": "2022-05-04T04:03:57.002578Z",
     "iopub.status.busy": "2022-05-04T04:03:57.002280Z",
     "iopub.status.idle": "2022-05-04T04:03:57.045508Z",
     "shell.execute_reply": "2022-05-04T04:03:57.043836Z"
    },
    "papermill": {
     "duration": 0.0973,
     "end_time": "2022-05-04T04:03:57.047530",
     "exception": false,
     "start_time": "2022-05-04T04:03:56.950230",
     "status": "completed"
    },
    "tags": []
   },
   "outputs": [
    {
     "name": "stdout",
     "output_type": "stream",
     "text": [
      "data loaded in 0.027512788772583008ms\n",
      "   Unnamed: 0          0          1          2          3          4  \\\n",
      "0         553 -416.60370  63.863445   0.513068   5.167307  -8.661581   \n",
      "1        1805 -427.17980  80.255104  -5.291107  -8.117942  -7.795765   \n",
      "2          25 -327.05260  42.647594 -34.206550  30.709171 -11.839665   \n",
      "3        2286 -480.91230  73.939156   8.055870   5.943898  -2.532218   \n",
      "4        1639 -403.73807  67.266570  -5.845891  29.969439 -12.040768   \n",
      "\n",
      "          5          6          7          8  ...        31        32  \\\n",
      "0  5.186703 -21.725878   3.165734 -25.868818  ... -1.252075 -2.056317   \n",
      "1  7.580192 -14.143043  10.021067 -17.955030  ...  4.912312  8.049795   \n",
      "2  1.733786 -10.801106   5.695707 -14.905782  ...  0.705960 -3.286812   \n",
      "3  7.379230 -12.637020   3.790873 -15.516082  ...  5.902211  6.393998   \n",
      "4  6.726273 -12.269065  -5.410265  -8.167441  ... -0.925929  5.798524   \n",
      "\n",
      "          33         34         35         36         37         38        39  \\\n",
      "0  -8.010333   3.275066   2.479754  -3.359422  -2.945907  -2.934092  0.798673   \n",
      "1   4.338893  10.287310  11.894154  14.846457  13.963367   8.719789  2.481333   \n",
      "2  -1.299096  -3.215812   1.689355  -0.603138  -0.601122   3.229420  0.708250   \n",
      "3   4.060031   7.235455   6.614044   7.611422   6.839218  10.625857  8.340453   \n",
      "4  16.029173  27.775623  30.262465  24.916710  10.953672  -0.385568 -1.541633   \n",
      "\n",
      "     emotion  \n",
      "0       fear  \n",
      "1  surprised  \n",
      "2       fear  \n",
      "3      happy  \n",
      "4    neutral  \n",
      "\n",
      "[5 rows x 42 columns]\n"
     ]
    }
   ],
   "source": [
    "starting_time = time.time()\n",
    "data = pd.read_csv(\"./RAVTESS_MFCC_Observed.csv\")\n",
    "print(\"data loaded in \" + str(time.time()-starting_time) + \"ms\")\n",
    "\n",
    "print(data.head())"
   ]
  },
  {
   "cell_type": "code",
   "execution_count": 15,
   "id": "f2d38b30",
   "metadata": {
    "execution": {
     "iopub.execute_input": "2022-05-04T04:03:57.148586Z",
     "iopub.status.busy": "2022-05-04T04:03:57.148049Z",
     "iopub.status.idle": "2022-05-04T04:03:57.152852Z",
     "shell.execute_reply": "2022-05-04T04:03:57.152256Z"
    },
    "papermill": {
     "duration": 0.056909,
     "end_time": "2022-05-04T04:03:57.154656",
     "exception": false,
     "start_time": "2022-05-04T04:03:57.097747",
     "status": "completed"
    },
    "tags": []
   },
   "outputs": [
    {
     "data": {
      "text/plain": [
       "(2800, 42)"
      ]
     },
     "execution_count": 15,
     "metadata": {},
     "output_type": "execute_result"
    }
   ],
   "source": [
    "data.shape"
   ]
  },
  {
   "cell_type": "code",
   "execution_count": 16,
   "id": "b37fb892",
   "metadata": {
    "execution": {
     "iopub.execute_input": "2022-05-04T04:03:57.257419Z",
     "iopub.status.busy": "2022-05-04T04:03:57.257071Z",
     "iopub.status.idle": "2022-05-04T04:03:57.263514Z",
     "shell.execute_reply": "2022-05-04T04:03:57.262589Z"
    },
    "papermill": {
     "duration": 0.06195,
     "end_time": "2022-05-04T04:03:57.265832",
     "exception": false,
     "start_time": "2022-05-04T04:03:57.203882",
     "status": "completed"
    },
    "tags": []
   },
   "outputs": [
    {
     "data": {
      "text/plain": [
       "Index(['Unnamed: 0', '0', '1', '2', '3', '4', '5', '6', '7', '8', '9', '10',\n",
       "       '11', '12', '13', '14', '15', '16', '17', '18', '19', '20', '21', '22',\n",
       "       '23', '24', '25', '26', '27', '28', '29', '30', '31', '32', '33', '34',\n",
       "       '35', '36', '37', '38', '39', 'emotion'],\n",
       "      dtype='object')"
      ]
     },
     "execution_count": 16,
     "metadata": {},
     "output_type": "execute_result"
    }
   ],
   "source": [
    "#printing all columns\n",
    "data.columns"
   ]
  },
  {
   "cell_type": "code",
   "execution_count": 17,
   "id": "e9d91edb",
   "metadata": {
    "execution": {
     "iopub.execute_input": "2022-05-04T04:03:57.368853Z",
     "iopub.status.busy": "2022-05-04T04:03:57.368551Z",
     "iopub.status.idle": "2022-05-04T04:03:57.377690Z",
     "shell.execute_reply": "2022-05-04T04:03:57.376591Z"
    },
    "papermill": {
     "duration": 0.062545,
     "end_time": "2022-05-04T04:03:57.379877",
     "exception": false,
     "start_time": "2022-05-04T04:03:57.317332",
     "status": "completed"
    },
    "tags": []
   },
   "outputs": [],
   "source": [
    "#dropping the column Unnamed: 0 to removed shuffled index\n",
    "data = data.drop('Unnamed: 0',axis=1)"
   ]
  },
  {
   "cell_type": "code",
   "execution_count": 18,
   "id": "7e964f31",
   "metadata": {
    "execution": {
     "iopub.execute_input": "2022-05-04T04:03:57.485343Z",
     "iopub.status.busy": "2022-05-04T04:03:57.484749Z",
     "iopub.status.idle": "2022-05-04T04:03:57.491443Z",
     "shell.execute_reply": "2022-05-04T04:03:57.490595Z"
    },
    "papermill": {
     "duration": 0.061351,
     "end_time": "2022-05-04T04:03:57.493436",
     "exception": false,
     "start_time": "2022-05-04T04:03:57.432085",
     "status": "completed"
    },
    "tags": []
   },
   "outputs": [
    {
     "data": {
      "text/plain": [
       "Index(['0', '1', '2', '3', '4', '5', '6', '7', '8', '9', '10', '11', '12',\n",
       "       '13', '14', '15', '16', '17', '18', '19', '20', '21', '22', '23', '24',\n",
       "       '25', '26', '27', '28', '29', '30', '31', '32', '33', '34', '35', '36',\n",
       "       '37', '38', '39', 'emotion'],\n",
       "      dtype='object')"
      ]
     },
     "execution_count": 18,
     "metadata": {},
     "output_type": "execute_result"
    }
   ],
   "source": [
    "data.columns"
   ]
  },
  {
   "cell_type": "code",
   "execution_count": 19,
   "id": "412ab1b6",
   "metadata": {
    "execution": {
     "iopub.execute_input": "2022-05-04T04:03:57.594780Z",
     "iopub.status.busy": "2022-05-04T04:03:57.594260Z",
     "iopub.status.idle": "2022-05-04T04:03:57.602060Z",
     "shell.execute_reply": "2022-05-04T04:03:57.601388Z"
    },
    "papermill": {
     "duration": 0.061117,
     "end_time": "2022-05-04T04:03:57.604377",
     "exception": false,
     "start_time": "2022-05-04T04:03:57.543260",
     "status": "completed"
    },
    "tags": []
   },
   "outputs": [],
   "source": [
    "#separating features and target outputs\n",
    "X = data.drop('emotion', axis = 1).values\n",
    "y = data['emotion'].values"
   ]
  },
  {
   "cell_type": "code",
   "execution_count": 20,
   "id": "de3cfaf2",
   "metadata": {
    "execution": {
     "iopub.execute_input": "2022-05-04T04:03:57.708123Z",
     "iopub.status.busy": "2022-05-04T04:03:57.707862Z",
     "iopub.status.idle": "2022-05-04T04:03:57.711863Z",
     "shell.execute_reply": "2022-05-04T04:03:57.711255Z"
    },
    "papermill": {
     "duration": 0.058312,
     "end_time": "2022-05-04T04:03:57.714870",
     "exception": false,
     "start_time": "2022-05-04T04:03:57.656558",
     "status": "completed"
    },
    "tags": []
   },
   "outputs": [
    {
     "name": "stdout",
     "output_type": "stream",
     "text": [
      "['fear' 'surprised' 'fear' ... 'disgust' 'angry' 'neutral']\n"
     ]
    }
   ],
   "source": [
    "print(y)"
   ]
  },
  {
   "cell_type": "markdown",
   "id": "f1da6328",
   "metadata": {
    "papermill": {
     "duration": 0.052673,
     "end_time": "2022-05-04T04:03:57.821387",
     "exception": false,
     "start_time": "2022-05-04T04:03:57.768714",
     "status": "completed"
    },
    "tags": []
   },
   "source": [
    "## SVM\n",
    "\n",
    "Implementing SVM with Scikit-Learn"
   ]
  },
  {
   "cell_type": "code",
   "execution_count": 21,
   "id": "5a846c53",
   "metadata": {
    "execution": {
     "iopub.execute_input": "2022-05-04T04:03:57.933806Z",
     "iopub.status.busy": "2022-05-04T04:03:57.932913Z",
     "iopub.status.idle": "2022-05-04T04:03:57.939816Z",
     "shell.execute_reply": "2022-05-04T04:03:57.939152Z"
    },
    "papermill": {
     "duration": 0.067333,
     "end_time": "2022-05-04T04:03:57.941860",
     "exception": false,
     "start_time": "2022-05-04T04:03:57.874527",
     "status": "completed"
    },
    "tags": []
   },
   "outputs": [],
   "source": [
    "import pandas as pd\n",
    "import numpy as np\n",
    "import matplotlib.pyplot as plt\n",
    "%matplotlib inline"
   ]
  },
  {
   "cell_type": "code",
   "execution_count": 22,
   "id": "567c2e0e",
   "metadata": {
    "execution": {
     "iopub.execute_input": "2022-05-04T04:03:58.050740Z",
     "iopub.status.busy": "2022-05-04T04:03:58.050460Z",
     "iopub.status.idle": "2022-05-04T04:03:58.056391Z",
     "shell.execute_reply": "2022-05-04T04:03:58.055735Z"
    },
    "papermill": {
     "duration": 0.06135,
     "end_time": "2022-05-04T04:03:58.058248",
     "exception": false,
     "start_time": "2022-05-04T04:03:57.996898",
     "status": "completed"
    },
    "tags": []
   },
   "outputs": [
    {
     "data": {
      "text/plain": [
       "((2800, 40), (2800,))"
      ]
     },
     "execution_count": 22,
     "metadata": {},
     "output_type": "execute_result"
    }
   ],
   "source": [
    "X.shape, y.shape"
   ]
  },
  {
   "cell_type": "code",
   "execution_count": 23,
   "id": "b78bbbb9",
   "metadata": {
    "execution": {
     "iopub.execute_input": "2022-05-04T04:03:58.172285Z",
     "iopub.status.busy": "2022-05-04T04:03:58.171958Z",
     "iopub.status.idle": "2022-05-04T04:03:58.181186Z",
     "shell.execute_reply": "2022-05-04T04:03:58.180094Z"
    },
    "papermill": {
     "duration": 0.06703,
     "end_time": "2022-05-04T04:03:58.183462",
     "exception": false,
     "start_time": "2022-05-04T04:03:58.116432",
     "status": "completed"
    },
    "tags": []
   },
   "outputs": [
    {
     "data": {
      "text/plain": [
       "array(['angry', 'disgust', 'fear', 'happy', 'neutral', 'sad', 'surprised'],\n",
       "      dtype=object)"
      ]
     },
     "execution_count": 23,
     "metadata": {},
     "output_type": "execute_result"
    }
   ],
   "source": [
    "np.unique(y)"
   ]
  },
  {
   "cell_type": "markdown",
   "id": "5c23ef2e",
   "metadata": {
    "papermill": {
     "duration": 0.054373,
     "end_time": "2022-05-04T04:03:58.291851",
     "exception": false,
     "start_time": "2022-05-04T04:03:58.237478",
     "status": "completed"
    },
    "tags": []
   },
   "source": [
    "X variable contains attributes while y variable contains corresponding labels.\n",
    "\n",
    "Once the data is divided into attributes and labels, the final preprocessing step is to divide data into training and test sets. The model_selection library of the Scikit-Learn library contains the train_test_split method that allows us to divide data into training and test sets."
   ]
  },
  {
   "cell_type": "code",
   "execution_count": 24,
   "id": "303478eb",
   "metadata": {
    "execution": {
     "iopub.execute_input": "2022-05-04T04:03:58.401327Z",
     "iopub.status.busy": "2022-05-04T04:03:58.400764Z",
     "iopub.status.idle": "2022-05-04T04:03:58.407754Z",
     "shell.execute_reply": "2022-05-04T04:03:58.407037Z"
    },
    "papermill": {
     "duration": 0.066925,
     "end_time": "2022-05-04T04:03:58.410290",
     "exception": false,
     "start_time": "2022-05-04T04:03:58.343365",
     "status": "completed"
    },
    "tags": []
   },
   "outputs": [],
   "source": [
    "from sklearn.model_selection import train_test_split\n",
    "\n",
    "X_train, X_test, y_train, y_test = train_test_split(X, y, test_size = 0.20)"
   ]
  },
  {
   "cell_type": "markdown",
   "id": "fe8f0995",
   "metadata": {
    "papermill": {
     "duration": 0.055252,
     "end_time": "2022-05-04T04:03:58.521898",
     "exception": false,
     "start_time": "2022-05-04T04:03:58.466646",
     "status": "completed"
    },
    "tags": []
   },
   "source": [
    "It is the time to train our SVM on the training data. Scikit-Learn contains the svm library, which contains built-in classes for different SVM algorithms. Since we are going to perform a classification task, we will use the support vector classifier class, which is written as SVC in the Scikit-Learn's svm library. We have set the kernel to linear."
   ]
  },
  {
   "cell_type": "code",
   "execution_count": 25,
   "id": "365abb3f",
   "metadata": {
    "execution": {
     "iopub.execute_input": "2022-05-04T04:03:58.631929Z",
     "iopub.status.busy": "2022-05-04T04:03:58.631323Z",
     "iopub.status.idle": "2022-05-04T04:03:58.636550Z",
     "shell.execute_reply": "2022-05-04T04:03:58.635822Z"
    },
    "papermill": {
     "duration": 0.062934,
     "end_time": "2022-05-04T04:03:58.638938",
     "exception": false,
     "start_time": "2022-05-04T04:03:58.576004",
     "status": "completed"
    },
    "tags": []
   },
   "outputs": [],
   "source": [
    "from sklearn.svm import SVC\n",
    "\n",
    "svclassifier = SVC(kernel = 'linear')"
   ]
  },
  {
   "cell_type": "markdown",
   "id": "a98c25ea",
   "metadata": {
    "papermill": {
     "duration": 0.052379,
     "end_time": "2022-05-04T04:03:58.745023",
     "exception": false,
     "start_time": "2022-05-04T04:03:58.692644",
     "status": "completed"
    },
    "tags": []
   },
   "source": [
    "The fit method of SVC class is called to train the algorithm on the training data, which is passed as a parameter to the fit method. Execute the following code to train the algorithm:"
   ]
  },
  {
   "cell_type": "code",
   "execution_count": 26,
   "id": "641bc924",
   "metadata": {
    "execution": {
     "iopub.execute_input": "2022-05-04T04:03:58.856959Z",
     "iopub.status.busy": "2022-05-04T04:03:58.856409Z",
     "iopub.status.idle": "2022-05-04T04:03:58.933134Z",
     "shell.execute_reply": "2022-05-04T04:03:58.931637Z"
    },
    "papermill": {
     "duration": 0.136234,
     "end_time": "2022-05-04T04:03:58.936591",
     "exception": false,
     "start_time": "2022-05-04T04:03:58.800357",
     "status": "completed"
    },
    "tags": []
   },
   "outputs": [
    {
     "name": "stdout",
     "output_type": "stream",
     "text": [
      "Trained model in 0.06951355934143066 ms \n"
     ]
    }
   ],
   "source": [
    "import time\n",
    "\n",
    "starting_time = time.time()\n",
    "svclassifier.fit(X_train, y_train)\n",
    "print(\"Trained model in %s ms \" % str(time.time() - starting_time))"
   ]
  },
  {
   "cell_type": "markdown",
   "id": "4e9814c1",
   "metadata": {
    "papermill": {
     "duration": 0.060638,
     "end_time": "2022-05-04T04:03:59.056544",
     "exception": false,
     "start_time": "2022-05-04T04:03:58.995906",
     "status": "completed"
    },
    "tags": []
   },
   "source": [
    "To make predictions, the predict method of the SVC class is used."
   ]
  },
  {
   "cell_type": "code",
   "execution_count": 27,
   "id": "a6cb6b27",
   "metadata": {
    "execution": {
     "iopub.execute_input": "2022-05-04T04:03:59.172092Z",
     "iopub.status.busy": "2022-05-04T04:03:59.171682Z",
     "iopub.status.idle": "2022-05-04T04:03:59.183676Z",
     "shell.execute_reply": "2022-05-04T04:03:59.182742Z"
    },
    "papermill": {
     "duration": 0.068762,
     "end_time": "2022-05-04T04:03:59.185910",
     "exception": false,
     "start_time": "2022-05-04T04:03:59.117148",
     "status": "completed"
    },
    "tags": []
   },
   "outputs": [],
   "source": [
    "y_pred = svclassifier.predict(X_test)"
   ]
  },
  {
   "cell_type": "markdown",
   "id": "6dd5758a",
   "metadata": {
    "papermill": {
     "duration": 0.054474,
     "end_time": "2022-05-04T04:03:59.300046",
     "exception": false,
     "start_time": "2022-05-04T04:03:59.245572",
     "status": "completed"
    },
    "tags": []
   },
   "source": [
    "Confusion matrix, precision, recall, and F1 measures are the most commonly used metrics for classification tasks. Scikit-Learn's metrics library contains the classification_report and confusion_matrix methods, which can be readily used to find out the values for these important metrics.\n",
    "We have used the following code for finding these metrics:"
   ]
  },
  {
   "cell_type": "code",
   "execution_count": 28,
   "id": "5fb08ef5",
   "metadata": {
    "execution": {
     "iopub.execute_input": "2022-05-04T04:03:59.410841Z",
     "iopub.status.busy": "2022-05-04T04:03:59.410428Z",
     "iopub.status.idle": "2022-05-04T04:04:00.096435Z",
     "shell.execute_reply": "2022-05-04T04:04:00.095494Z"
    },
    "papermill": {
     "duration": 0.743018,
     "end_time": "2022-05-04T04:04:00.098716",
     "exception": false,
     "start_time": "2022-05-04T04:03:59.355698",
     "status": "completed"
    },
    "tags": []
   },
   "outputs": [
    {
     "name": "stdout",
     "output_type": "stream",
     "text": [
      "              precision    recall  f1-score   support\n",
      "\n",
      "       angry       0.98      1.00      0.99        60\n",
      "     disgust       0.97      0.99      0.98        77\n",
      "        fear       1.00      1.00      1.00        78\n",
      "       happy       0.99      0.98      0.98        85\n",
      "     neutral       1.00      1.00      1.00        76\n",
      "         sad       1.00      1.00      1.00       101\n",
      "   surprised       0.99      0.98      0.98        83\n",
      "\n",
      "    accuracy                           0.99       560\n",
      "   macro avg       0.99      0.99      0.99       560\n",
      "weighted avg       0.99      0.99      0.99       560\n",
      "\n",
      "----accuracy score 99.10714285714286 ----\n"
     ]
    },
    {
     "data": {
      "image/png": "[encoded data removed]",
      "text/plain": [
       "<Figure size 432x288 with 2 Axes>"
      ]
     },
     "metadata": {
      "needs_background": "light"
     },
     "output_type": "display_data"
    }
   ],
   "source": [
    "from sklearn.metrics import classification_report, confusion_matrix,accuracy_score\n",
    "import seaborn as sn\n",
    "\n",
    "print(classification_report(y_test,y_pred))\n",
    "\n",
    "acc = float(accuracy_score(y_test,y_pred))*100\n",
    "print(\"----accuracy score %s ----\" % acc)\n",
    "\n",
    "cm = confusion_matrix(y_test,y_pred)\n",
    "df_cm = pd.DataFrame(cm)\n",
    "sn.heatmap(df_cm, annot=True, fmt='')\n",
    "plt.show()"
   ]
  },
  {
   "cell_type": "markdown",
   "id": "c005011c",
   "metadata": {
    "papermill": {
     "duration": 0.05582,
     "end_time": "2022-05-04T04:04:00.208422",
     "exception": false,
     "start_time": "2022-05-04T04:04:00.152602",
     "status": "completed"
    },
    "tags": []
   },
   "source": [
    "Now by calculating the training accuracy and comparing with testing accuracy, we can check for overfitting of data"
   ]
  },
  {
   "cell_type": "code",
   "execution_count": 29,
   "id": "617d01fd",
   "metadata": {
    "execution": {
     "iopub.execute_input": "2022-05-04T04:04:00.330977Z",
     "iopub.status.busy": "2022-05-04T04:04:00.330459Z",
     "iopub.status.idle": "2022-05-04T04:04:00.383034Z",
     "shell.execute_reply": "2022-05-04T04:04:00.381225Z"
    },
    "papermill": {
     "duration": 0.116841,
     "end_time": "2022-05-04T04:04:00.386398",
     "exception": false,
     "start_time": "2022-05-04T04:04:00.269557",
     "status": "completed"
    },
    "tags": []
   },
   "outputs": [
    {
     "name": "stdout",
     "output_type": "stream",
     "text": [
      "----train accuracy score 100.0 ----\n",
      "----test accuracy score 99.10714285714286 ----\n"
     ]
    }
   ],
   "source": [
    "train_acc = float(svclassifier.score(X_train, y_train)*100)\n",
    "print(\"----train accuracy score %s ----\" % train_acc)\n",
    "\n",
    "test_acc = float(svclassifier.score(X_test, y_test)*100)\n",
    "print(\"----test accuracy score %s ----\" % test_acc)"
   ]
  },
  {
   "cell_type": "markdown",
   "id": "b8fccfc4",
   "metadata": {
    "papermill": {
     "duration": 0.061937,
     "end_time": "2022-05-04T04:04:00.506994",
     "exception": false,
     "start_time": "2022-05-04T04:04:00.445057",
     "status": "completed"
    },
    "tags": []
   },
   "source": [
    "### Cross-Validation"
   ]
  },
  {
   "cell_type": "markdown",
   "id": "c56b3171",
   "metadata": {
    "papermill": {
     "duration": 0.061451,
     "end_time": "2022-05-04T04:04:00.633074",
     "exception": false,
     "start_time": "2022-05-04T04:04:00.571623",
     "status": "completed"
    },
    "tags": []
   },
   "source": [
    "5-fold cross validation of the dataset with the SVC classifier."
   ]
  },
  {
   "cell_type": "code",
   "execution_count": 30,
   "id": "e4469add",
   "metadata": {
    "execution": {
     "iopub.execute_input": "2022-05-04T04:04:00.749434Z",
     "iopub.status.busy": "2022-05-04T04:04:00.748498Z",
     "iopub.status.idle": "2022-05-04T04:04:01.159227Z",
     "shell.execute_reply": "2022-05-04T04:04:01.157924Z"
    },
    "papermill": {
     "duration": 0.473397,
     "end_time": "2022-05-04T04:04:01.162004",
     "exception": false,
     "start_time": "2022-05-04T04:04:00.688607",
     "status": "completed"
    },
    "tags": []
   },
   "outputs": [
    {
     "name": "stdout",
     "output_type": "stream",
     "text": [
      "[0.9875     0.99107143 0.98571429 0.99285714 0.99464286]\n"
     ]
    }
   ],
   "source": [
    "from sklearn.model_selection import cross_val_score\n",
    "\n",
    "# no. of folds cv = 5\n",
    "cv_results = cross_val_score(svclassifier, X, y, cv = 5)\n",
    "print(cv_results)"
   ]
  },
  {
   "cell_type": "markdown",
   "id": "5ff1bda6",
   "metadata": {
    "papermill": {
     "duration": 0.055592,
     "end_time": "2022-05-04T04:04:01.273471",
     "exception": false,
     "start_time": "2022-05-04T04:04:01.217879",
     "status": "completed"
    },
    "tags": []
   },
   "source": [
    "## Scaling \n",
    "\n",
    "When performing the linear SVM classification, it is often helpful to normalize the training data, for example by subtracting the mean and dividing by the standard deviation, and afterwards scale the test data with the mean and standard deviation of training data."
   ]
  },
  {
   "cell_type": "code",
   "execution_count": 31,
   "id": "ac19f335",
   "metadata": {
    "execution": {
     "iopub.execute_input": "2022-05-04T04:04:01.400461Z",
     "iopub.status.busy": "2022-05-04T04:04:01.398535Z",
     "iopub.status.idle": "2022-05-04T04:04:01.786433Z",
     "shell.execute_reply": "2022-05-04T04:04:01.785163Z"
    },
    "papermill": {
     "duration": 0.455912,
     "end_time": "2022-05-04T04:04:01.788654",
     "exception": false,
     "start_time": "2022-05-04T04:04:01.332742",
     "status": "completed"
    },
    "tags": []
   },
   "outputs": [
    {
     "name": "stdout",
     "output_type": "stream",
     "text": [
      "Accuracy with Scaling: 1.0\n",
      "Accuracy without Scaling: 0.9982142857142857\n"
     ]
    }
   ],
   "source": [
    "from sklearn.model_selection import train_test_split\n",
    "from sklearn.preprocessing import StandardScaler\n",
    "from sklearn.pipeline import Pipeline\n",
    "from sklearn.svm import SVC\n",
    "\n",
    "\n",
    "#splitting dataset into train/ test sets\n",
    "X_train, X_test, y_train, y_test = train_test_split(X, y, test_size = 0.20)\n",
    "\n",
    "# Setup the pipeline steps: steps\n",
    "steps = [('scaler', StandardScaler()),\n",
    "        ('SVM', SVC())]\n",
    "        \n",
    "# Create the pipeline: pipeline\n",
    "pipeline = Pipeline(steps)\n",
    "\n",
    "# Fit the pipeline to the training set: svc_scaled\n",
    "svc_scaled = pipeline.fit(X_train, y_train)\n",
    "\n",
    "# Instantiate and fit a classifier to the unscaled data\n",
    "svc_unscaled = SVC(kernel = 'linear').fit(X_train, y_train)\n",
    "\n",
    "# Compute and print metrics\n",
    "print('Accuracy with Scaling: {}'.format(svc_scaled.score(X_test, y_test)))\n",
    "print('Accuracy without Scaling: {}'.format(svc_unscaled.score(X_test, y_test)))\n"
   ]
  },
  {
   "cell_type": "markdown",
   "id": "8e322127",
   "metadata": {
    "papermill": {
     "duration": 0.05619,
     "end_time": "2022-05-04T04:04:01.901673",
     "exception": false,
     "start_time": "2022-05-04T04:04:01.845483",
     "status": "completed"
    },
    "tags": []
   },
   "source": [
    "### Generalization check\n",
    "Checking for overfitting or underfitting by comparing the training and testing scores of the model"
   ]
  },
  {
   "cell_type": "code",
   "execution_count": 32,
   "id": "154841e4",
   "metadata": {
    "execution": {
     "iopub.execute_input": "2022-05-04T04:04:02.020835Z",
     "iopub.status.busy": "2022-05-04T04:04:02.020506Z",
     "iopub.status.idle": "2022-05-04T04:04:02.206962Z",
     "shell.execute_reply": "2022-05-04T04:04:02.206052Z"
    },
    "papermill": {
     "duration": 0.247087,
     "end_time": "2022-05-04T04:04:02.209019",
     "exception": false,
     "start_time": "2022-05-04T04:04:01.961932",
     "status": "completed"
    },
    "tags": []
   },
   "outputs": [
    {
     "name": "stdout",
     "output_type": "stream",
     "text": [
      "----train accuracy score 100.0 ----\n",
      "----test accuracy score 100.0 ----\n"
     ]
    }
   ],
   "source": [
    "train_acc = float(svc_scaled.score(X_train, y_train)*100)\n",
    "print(\"----train accuracy score %s ----\" % train_acc)\n",
    "\n",
    "test_acc = float(svc_scaled.score(X_test, y_test)*100)\n",
    "print(\"----test accuracy score %s ----\" % test_acc)"
   ]
  },
  {
   "cell_type": "code",
   "execution_count": 33,
   "id": "0c945051",
   "metadata": {
    "execution": {
     "iopub.execute_input": "2022-05-04T04:04:02.325168Z",
     "iopub.status.busy": "2022-05-04T04:04:02.324875Z",
     "iopub.status.idle": "2022-05-04T04:04:02.364639Z",
     "shell.execute_reply": "2022-05-04T04:04:02.363619Z"
    },
    "papermill": {
     "duration": 0.100162,
     "end_time": "2022-05-04T04:04:02.367234",
     "exception": false,
     "start_time": "2022-05-04T04:04:02.267072",
     "status": "completed"
    },
    "tags": []
   },
   "outputs": [],
   "source": [
    "scaled_predictions = svc_scaled.predict(X_test)"
   ]
  },
  {
   "cell_type": "markdown",
   "id": "f37e0af8",
   "metadata": {
    "papermill": {
     "duration": 0.058551,
     "end_time": "2022-05-04T04:04:02.482904",
     "exception": false,
     "start_time": "2022-05-04T04:04:02.424353",
     "status": "completed"
    },
    "tags": []
   },
   "source": [
    "### Classification reports and Confusion Matrix"
   ]
  },
  {
   "cell_type": "code",
   "execution_count": 34,
   "id": "fa8392c4",
   "metadata": {
    "execution": {
     "iopub.execute_input": "2022-05-04T04:04:02.604637Z",
     "iopub.status.busy": "2022-05-04T04:04:02.604049Z",
     "iopub.status.idle": "2022-05-04T04:04:03.059869Z",
     "shell.execute_reply": "2022-05-04T04:04:03.058414Z"
    },
    "papermill": {
     "duration": 0.519279,
     "end_time": "2022-05-04T04:04:03.062615",
     "exception": false,
     "start_time": "2022-05-04T04:04:02.543336",
     "status": "completed"
    },
    "tags": []
   },
   "outputs": [
    {
     "name": "stdout",
     "output_type": "stream",
     "text": [
      "              precision    recall  f1-score   support\n",
      "\n",
      "       angry       1.00      1.00      1.00        86\n",
      "     disgust       1.00      1.00      1.00        77\n",
      "        fear       1.00      1.00      1.00        94\n",
      "       happy       1.00      1.00      1.00        80\n",
      "     neutral       1.00      1.00      1.00        67\n",
      "         sad       1.00      1.00      1.00        77\n",
      "   surprised       1.00      1.00      1.00        79\n",
      "\n",
      "    accuracy                           1.00       560\n",
      "   macro avg       1.00      1.00      1.00       560\n",
      "weighted avg       1.00      1.00      1.00       560\n",
      "\n",
      "----accuracy score 100.0 ----\n"
     ]
    },
    {
     "data": {
      "image/png": "[encoded data removed]",
      "text/plain": [
       "<Figure size 432x288 with 2 Axes>"
      ]
     },
     "metadata": {
      "needs_background": "light"
     },
     "output_type": "display_data"
    }
   ],
   "source": [
    "from sklearn.metrics import classification_report, confusion_matrix,accuracy_score\n",
    "import seaborn as sn\n",
    "\n",
    "print(classification_report(y_test,scaled_predictions))\n",
    "\n",
    "acc = float(accuracy_score(y_test,scaled_predictions))*100\n",
    "print(\"----accuracy score %s ----\" % acc)\n",
    "\n",
    "cm = confusion_matrix(y_test,scaled_predictions)\n",
    "df_cm = pd.DataFrame(cm)\n",
    "sn.heatmap(df_cm, annot=True, fmt='')\n",
    "plt.show()"
   ]
  }
 ],
 "metadata": {
  "kernelspec": {
   "display_name": "Python 3",
   "language": "python",
   "name": "python3"
  },
  "language_info": {
   "codemirror_mode": {
    "name": "ipython",
    "version": 3
   },
   "file_extension": ".py",
   "mimetype": "text/x-python",
   "name": "python",
   "nbconvert_exporter": "python",
   "pygments_lexer": "ipython3",
   "version": "3.7.12"
  },
  "papermill": {
   "default_parameters": {},
   "duration": 184.174988,
   "end_time": "2022-05-04T04:04:04.145087",
   "environment_variables": {},
   "exception": null,
   "input_path": "__notebook__.ipynb",
   "output_path": "__notebook__.ipynb",
   "parameters": {},
   "start_time": "2022-05-04T04:00:59.970099",
   "version": "2.3.4"
  }
 },
 "nbformat": 4,
 "nbformat_minor": 5
}
